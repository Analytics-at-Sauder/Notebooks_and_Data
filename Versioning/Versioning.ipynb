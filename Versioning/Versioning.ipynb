{
 "cells": [
  {
   "cell_type": "markdown",
   "metadata": {},
   "source": [
    "## Versioning\n",
    "\n",
    "---\n",
    "\n",
    "The Versioning is a business practice in which a company produces different models of essentially the same product and then charges different prices for each model. In this way, the business is attempting to attract higher prices based on the value a customer perceives.\n",
    "\n",
    "For a single product offering, we assume that customers choose the product as long as the WTP(Willingness To Pay)is greater than the price.\n",
    "\n",
    "For a multiple product offering, we assumen that consumers choose the product that gives them the highest surplus.\n",
    "\n",
    "---"
   ]
  },
  {
   "cell_type": "markdown",
   "metadata": {},
   "source": [
    "### - Single Version"
   ]
  },
  {
   "cell_type": "code",
   "execution_count": 8,
   "metadata": {},
   "outputs": [],
   "source": [
    "import pandas as pd"
   ]
  },
  {
   "cell_type": "code",
   "execution_count": 38,
   "metadata": {},
   "outputs": [
    {
     "name": "stdout",
     "output_type": "stream",
     "text": [
      "Customer Names WTP\n",
      "          Abby   8\n",
      "           Bob   9\n",
      "         Cindy  10\n",
      "       Desmond  19\n",
      "           Eva  20\n"
     ]
    }
   ],
   "source": [
    "lst_name = ['Abby',\"Bob\",'Cindy','Desmond','Eva']\n",
    "lst_WTP = ['8','9','10','19','20']\n",
    "df = pd.DataFrame(list(zip(lst_name,lst_WTP)), columns = ['Customer Names','WTP'])\n",
    "print(df.to_string(index=False))"
   ]
  },
  {
   "cell_type": "markdown",
   "metadata": {},
   "source": [
    "Here we suppose we have five customers who have different WTP for the same movie ticket. These are the potential customers who can buy the movie tickets. As the manager of the cinema, you have to set a price to make the most out of the movie.\n",
    "\n",
    "There are five possible points to set the price which are the WTPs of each customer because the customers will buy the movie ticket as long as the WTP is greater than the price\n",
    "\n",
    "---\n"
   ]
  },
  {
   "cell_type": "code",
   "execution_count": 39,
   "metadata": {},
   "outputs": [
    {
     "name": "stdout",
     "output_type": "stream",
     "text": [
      "Ticket Price  Total Profit\n",
      "           8            40\n",
      "           9            36\n",
      "          10            30\n",
      "          19            38\n",
      "          20            20\n"
     ]
    }
   ],
   "source": [
    "total_profit_lst = []\n",
    "for i in lst_WTP:\n",
    "    profit = 0\n",
    "    for k in lst_WTP:\n",
    "        if int(i) <= int(k):\n",
    "            profit = profit + int(i)          \n",
    "    total_profit_lst.append(profit)\n",
    "df_single = pd.DataFrame(list(zip(lst_WTP,total_profit_lst)), columns = ['Ticket Price','Total Profit'])\n",
    "print(df_single.to_string(index=False))"
   ]
  },
  {
   "cell_type": "markdown",
   "metadata": {},
   "source": [
    "We can see that the maximum profit that can be gained is $40 by setting the price to 8 dollar so that all the customers will buy the moview ticket. However, is there a way to gain more profit from these customers?\n",
    "\n",
    "---\n"
   ]
  },
  {
   "cell_type": "markdown",
   "metadata": {},
   "source": [
    "### - Multiple Version\n",
    "\n",
    "We can try to provide a different version to customers with higher WTP. We can sell the ticket a higher price by providing the customers premium seating which incur almost no additional cost, but increase the profit. Let's try to apply this methodology here into these five customers."
   ]
  },
  {
   "cell_type": "code",
   "execution_count": 43,
   "metadata": {},
   "outputs": [
    {
     "name": "stdout",
     "output_type": "stream",
     "text": [
      "Customer Names WTP_low  WTP_high\n",
      "          Abby       8         8\n",
      "           Bob       9         9\n",
      "         Cindy      10        10\n",
      "       Desmond      19        40\n",
      "           Eva      20        50\n"
     ]
    }
   ],
   "source": [
    "lst_WTP_high = [8,9,10,40,50]\n",
    "df['WTP_high'] = lst_WTP_high\n",
    "df.columns = ['Customer Names', \"WTP_low\",\"WTP_high\"]\n",
    "print(df.to_string(index=False))"
   ]
  },
  {
   "cell_type": "markdown",
   "metadata": {},
   "source": [
    "Customers might have different WTP for two different versions because some of them want to enjoy premium services.\n",
    "\n",
    "---\n"
   ]
  },
  {
   "cell_type": "code",
   "execution_count": 54,
   "metadata": {},
   "outputs": [],
   "source": [
    "price_Low = 8\n",
    "price_High = 28.99"
   ]
  },
  {
   "cell_type": "markdown",
   "metadata": {},
   "source": [
    "Here we test the total profit if we set the low end version ticket price to 8 and high end version ticket price to 28.99.\n",
    "\n",
    "---"
   ]
  },
  {
   "cell_type": "code",
   "execution_count": 52,
   "metadata": {},
   "outputs": [
    {
     "name": "stdout",
     "output_type": "stream",
     "text": [
      "         surplus for low end ticket  surplus for high end ticket\n",
      "Abby                              0                       -20.99\n",
      "Bob                               1                       -19.99\n",
      "Cindy                             2                       -18.99\n",
      "Desmond                          11                        11.01\n",
      "Eva                              12                        21.01\n",
      "\n",
      "===============================================================================================================\n",
      "\n",
      "surplus for low end ticket     11.00\n",
      "surplus for high end ticket    11.01\n",
      "Name: Desmond, dtype: float64\n"
     ]
    }
   ],
   "source": [
    "surplus = [(8-8,8-28.99),\n",
    "           (9-8,9-28.99),\n",
    "           (10-8,10-28.99),\n",
    "           (19-8,40-28.99),\n",
    "           (20-8,50-28.99)]\n",
    "\n",
    "df_surplus = pd.DataFrame(surplus,columns = ['surplus for low end ticket','surplus for high end ticket'],index = lst_name)\n",
    "print(df_surplus)\n",
    "print()\n",
    "print(\"===============================================================================================================\")\n",
    "print()\n",
    "Desmond_data = df_surplus.loc['Desmond',:]; print(Desmond_data)"
   ]
  },
  {
   "cell_type": "markdown",
   "metadata": {},
   "source": [
    "Here we can see the corresponding surplus for each of the customers. Here we want to focus on Desmond's surplus. Desmond's surplus for high end ticket is 0.01 more than his surplus for low end ticket which means he will pick the high end ticket for the additional surplus. We successfully attract Desmond to buy the high end ticket.\n",
    "\n",
    "---"
   ]
  },
  {
   "cell_type": "code",
   "execution_count": 62,
   "metadata": {},
   "outputs": [
    {
     "name": "stdout",
     "output_type": "stream",
     "text": [
      "The new profit is $81.98\n"
     ]
    }
   ],
   "source": [
    "profit = 0\n",
    "for index, row in df_surplus.iterrows():\n",
    "    if row['surplus for low end ticket'] >= row['surplus for high end ticket']:\n",
    "        profit = profit + price_Low\n",
    "    else:\n",
    "        profit = profit + price_High\n",
    "print(\"The new profit is $\"+ str(round(profit,2)))"
   ]
  },
  {
   "cell_type": "markdown",
   "metadata": {},
   "source": [
    "By using two different versions, we can successfully double the profit of selling movie tickets. That's the magic of versioning!\n",
    "\n",
    "---"
   ]
  }
 ],
 "metadata": {
  "kernelspec": {
   "display_name": "Python 3",
   "language": "python",
   "name": "python3"
  },
  "language_info": {
   "codemirror_mode": {
    "name": "ipython",
    "version": 3
   },
   "file_extension": ".py",
   "mimetype": "text/x-python",
   "name": "python",
   "nbconvert_exporter": "python",
   "pygments_lexer": "ipython3",
   "version": "3.7.3"
  }
 },
 "nbformat": 4,
 "nbformat_minor": 2
}
