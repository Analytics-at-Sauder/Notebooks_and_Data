{
 "cells": [
  {
   "cell_type": "markdown",
   "metadata": {},
   "source": [
    "## Project Title (Level 1 Heading)\n",
    "\n",
    "##### Author: First Name Last Name (Level 5 Heading)\n",
    "\n",
    "(Insert here a sentence introducing the **topic** of this notebook). We encourage you to create your own Jupytor notebook and follow along. You can also download this notebook together with any affiliated data in the [Notebooks and Data](https://github.com/Master-of-Business-Analytics/Notebooks_and_Data) GitHub repository. Alternatively, if you do not have Python or Jupyter Notebook installed yet, you may experiment with a virtual notebook by launching Binder or Syzygy below (learn more about these two tools in the [Resource](https://analytics-at-sauder.github.io/resource.html) tab). \n",
    "\n",
    "<a href=\"#\" target=\"_blank\" class=\"button\">Launch Syzygy (UBC)</a>\n",
    "\n",
    "<a href=\"#\" target=\"_blank\" class=\"button\">Launch Syzygy (Google)</a>\n",
    "\n",
    "<a href=\"#\" target=\"_blank\" class=\"button\">Launch Binder</a>\n",
    "\n",
    "## Business Scenario/Background/Problem (Level 2 Heading)\n",
    "\n",
    "---\n",
    "\n",
    "(Describe and explain the business scenario/background/problem)"
   ]
  },
  {
   "cell_type": "code",
   "execution_count": null,
   "metadata": {},
   "outputs": [],
   "source": [
    "# Import necessary packages"
   ]
  },
  {
   "cell_type": "markdown",
   "metadata": {},
   "source": [
    "### Data/Resources (Level 3 Heading)\n",
    "\n",
    "(Introduce and showcase the data that are available to this business problem)"
   ]
  },
  {
   "cell_type": "markdown",
   "metadata": {},
   "source": [
    "## Analytical Tools/Methods/Techniques (Level 2 Heading)\n",
    "\n",
    "---\n",
    "\n",
    "(Describe and explain the analytical methods or techniques, including any relevant packages, which will be applied in this notebook)\n",
    "\n",
    "- Explanation of methodologies should be markdown\n",
    "    - However, avoid any one-sentence paragraph whenever possible\n",
    "    - Use Level 3 Headings whenever approriate (e.g. when there are multiple methods/tools)\n",
    "- Explanation of coding or functions should be inline comments\n",
    "    - Place comments on its own line to avoid wrapping on webpages\n",
    "    - Place comments ahead of code whenever possible to avoid confusion"
   ]
  },
  {
   "cell_type": "code",
   "execution_count": 4,
   "metadata": {},
   "outputs": [],
   "source": [
    "# Include any relevant code with explanations"
   ]
  },
  {
   "cell_type": "markdown",
   "metadata": {},
   "source": [
    "## Application of the Analytical Tools to the Business Problem (Level 2 Heading)\n",
    "\n",
    "---\n",
    "\n",
    "- Explanation of methodologies should be markdown\n",
    "    - However, avoid any one-sentence paragraph whenever possible\n",
    "    - Use Level 3 Headings whenever approriate (e.g. when there are multiple methods/tools)\n",
    "- Explanation of coding or functions should be inline comments\n",
    "    - Place comments on its own line to avoid wrapping on webpages\n",
    "    - Place comments ahead of code whenever possible to avoid confusion"
   ]
  },
  {
   "cell_type": "code",
   "execution_count": null,
   "metadata": {},
   "outputs": [],
   "source": [
    "# Include any relevant code with explanations"
   ]
  },
  {
   "cell_type": "markdown",
   "metadata": {},
   "source": [
    "## Summary or Conclusion (Level 2 Heading)\n",
    "\n",
    "---\n",
    "\n",
    "(Summarize the process and result of this notebook)\n",
    "\n",
    "### Optional Challenge/Homework (Level 3 Heading)\n",
    "\n",
    "(Propose a detailed challenge or homework)"
   ]
  },
  {
   "cell_type": "markdown",
   "metadata": {},
   "source": [
    "## Reference and Attribution (Level 2 Heading)\n",
    "\n",
    "---\n",
    "\n",
    "1. Reference 1\n",
    "2. Reference 2"
   ]
  }
 ],
 "metadata": {
  "kernelspec": {
   "display_name": "Python 3",
   "language": "python",
   "name": "python3"
  },
  "language_info": {
   "codemirror_mode": {
    "name": "ipython",
    "version": 3
   },
   "file_extension": ".py",
   "mimetype": "text/x-python",
   "name": "python",
   "nbconvert_exporter": "python",
   "pygments_lexer": "ipython3",
   "version": "3.7.7"
  },
  "toc": {
   "base_numbering": 1,
   "nav_menu": {},
   "number_sections": false,
   "sideBar": true,
   "skip_h1_title": false,
   "title_cell": "Table of Contents",
   "title_sidebar": "Contents",
   "toc_cell": false,
   "toc_position": {},
   "toc_section_display": true,
   "toc_window_display": false
  }
 },
 "nbformat": 4,
 "nbformat_minor": 4
}
