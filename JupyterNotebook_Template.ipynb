{
 "cells": [
  {
   "cell_type": "markdown",
   "metadata": {},
   "source": [
    "(Insert here a paragraph introducing the **topic** and **structure** of this notebook)\n",
    "\n",
    "## Business Scenario/Background/Problem (Level 2 Heading)\n",
    "\n",
    "---\n",
    "\n",
    "(Describe and explain the business scenario/background/problem)"
   ]
  },
  {
   "cell_type": "code",
   "execution_count": null,
   "metadata": {},
   "outputs": [],
   "source": [
    "# Import necessary packages"
   ]
  },
  {
   "cell_type": "markdown",
   "metadata": {},
   "source": [
    "### Data/Resources (Level 3 Heading)\n",
    "\n",
    "(Introduce and showcase the data that are available to this business problem)"
   ]
  },
  {
   "cell_type": "markdown",
   "metadata": {},
   "source": [
    "## Analytical Tools/Methods/Techniques (Level 2 Heading)\n",
    "\n",
    "---\n",
    "\n",
    "(Describe and explain the analytical methods or techniques, including any relevant packages, which will be applied in this notebook)\n",
    "\n",
    "- Explanation of methodologies should be markdown\n",
    "    - However, avoid any one-sentence paragraph whenever possible\n",
    "    - Use Level 3 Headings whenever approriate (e.g. when there are multiple methods/tools)\n",
    "- Explanation of coding or functions should be inline comments\n",
    "    - Place comments on its own line to avoid wrapping on webpages\n",
    "    - Place comments ahead of code whenever possible to avoid confusion"
   ]
  },
  {
   "cell_type": "code",
   "execution_count": 4,
   "metadata": {},
   "outputs": [],
   "source": [
    "# Include any relevant code with explanations"
   ]
  },
  {
   "cell_type": "markdown",
   "metadata": {},
   "source": [
    "## Application of the Analytical Tools to the Business Problem (Level 2 Heading)\n",
    "\n",
    "---\n",
    "\n",
    "- Explanation of methodologies should be markdown\n",
    "    - However, avoid any one-sentence paragraph whenever possible\n",
    "    - Use Level 3 Headings whenever approriate (e.g. when there are multiple methods/tools)\n",
    "- Explanation of coding or functions should be inline comments\n",
    "    - Place comments on its own line to avoid wrapping on webpages\n",
    "    - Place comments ahead of code whenever possible to avoid confusion"
   ]
  },
  {
   "cell_type": "code",
   "execution_count": null,
   "metadata": {},
   "outputs": [],
   "source": [
    "# Include any relevant code with explanations"
   ]
  },
  {
   "cell_type": "markdown",
   "metadata": {},
   "source": [
    "## Summary or Conclusion (Level 2 Heading)\n",
    "\n",
    "---\n",
    "\n",
    "(Summarize the process and result of this notebook)\n",
    "\n",
    "### Optional Challenge/Homework (Level 3 Heading)\n",
    "\n",
    "(Propose a detailed challenge or homework)"
   ]
  },
  {
   "cell_type": "markdown",
   "metadata": {},
   "source": [
    "## Reference and Attribution (Level 2 Heading)\n",
    "\n",
    "---\n",
    "\n",
    "1. Reference 1\n",
    "2. Reference 2"
   ]
  }
 ],
 "metadata": {
  "kernelspec": {
   "display_name": "Python 3",
   "language": "python",
   "name": "python3"
  },
  "language_info": {
   "codemirror_mode": {
    "name": "ipython",
    "version": 3
   },
   "file_extension": ".py",
   "mimetype": "text/x-python",
   "name": "python",
   "nbconvert_exporter": "python",
   "pygments_lexer": "ipython3",
   "version": "3.7.7"
  }
 },
 "nbformat": 4,
 "nbformat_minor": 4
}
