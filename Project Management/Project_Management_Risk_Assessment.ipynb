{
 "cells": [
  {
   "cell_type": "markdown",
   "metadata": {},
   "source": [
    "## Background\n",
    "\n",
    "---\n",
    "\n",
    "In this notebook, we are going to explore ways that one can apply Monte Carlo Simulation in predictiong project completion date and assess project risk. The workbook is divided into multiple scenarios, each one incorporating more uncertainty or elements than the one prior. We encourage you to create your own Jupytor notebook and follow along. **Alternatively, you can also download this specific Jupytor notebook [here](https://github.com/Master-of-Business-Analytics/Code_repository)**\n",
    "\n",
    "Monte Carlo Simulation is a great tool for business decision making under uncertainty, and it is well known in the Project Management domain. Instead of providing a simple predicted average project completion time, one could find a range of possible dates for completion. When you give an average completion prediction, there is a chance as high as 50% that one is going miss the deadline; however, no one likes to hear pessimistic estimates which would likely lead to the project bid won by a different team with a lower estimate (whether that is realistic or not). Monte Carlo Simulation in this case, could give you an idea of the possible distribution of the project completion time, which would then allow you to quote and make decisions that incorporates uncertainty.\n",
    "\n",
    "Before we begin, please first download and import the following packages:"
   ]
  },
  {
   "cell_type": "code",
   "execution_count": 66,
   "metadata": {},
   "outputs": [],
   "source": [
    "import numpy as np\n",
    "import pandas as pd\n",
    "import matplotlib.pyplot as plt"
   ]
  },
  {
   "cell_type": "markdown",
   "metadata": {},
   "source": [
    "## Scenario No.1\n",
    "\n",
    "---\n",
    "\n",
    "A construction project involves three tasks:\n",
    "\n",
    "* Task 1 is likely to take three days (70% probability), but it might also be completed in two days (with 10% probability) or four days (20% probability)\n",
    "* Task 2 has a 60% probability of taking six days to finish, a 20% probability each of being completed in five days or eight days\n",
    "* Task 3 has an 80% probability of being completed in four days, 5% probability of being completed in three days and a 15% probability of being completed in five days.\n",
    "\n",
    "Each task is dependent on the task before it, meaning that the three tasks must be executed in sequence. Your task is to provide information to the project manager concerning the expected completion time of the project and possible delays.\n",
    "\n",
    "One simple method is to calculate the expected completion date of each task and then sumthem up, which would lead to the following:\n",
    "\n",
    "\\begin{equation}\n",
    "\\begin{split}\n",
    "E\\,[Project\\:Completion\\:Time] & = \\sum_{n=1}^{3} E\\,[Task_{n}\\:Completion\\:Time]\\\\\n",
    "& = (0.7 \\cdot 3 + 0.1 \\cdot 2 + 0.2 \\cdot 4) + (0.6 \\cdot 6 + 0.2 \\cdot 5 + 0.2 \\cdot 8) + (0.8 \\cdot 4 + 0.05 \\cdot 3 + 0.15 \\cdot 5)\\\\\n",
    "& = 3.1 + 6.2 + 4\\\\\n",
    "& = 13.3\\:(days)\n",
    "\\end{split}\n",
    "\\end{equation}\n",
    "\n",
    "However, without getting in too much detail, there is a fair chance that the actual completion time of the project is shorter or longer than 13.3 days, and it would be helpful to know the probability of different project completion time. Simple scenarios like this might be easy to solve with mathematical equations (learn more about discrete random variables [here](https://www.khanacademy.org/math/ap-statistics/random-variables-ap/discrete-random-variables/v/valid-discrete-probability-distribution-examples)), but real life situations are often much more complex. Therefore, Monte Carlo Simulation would be very useful in the sense that one could simulate the scenario without getting deep into the calculations. Simulated results also allow you to visualize the different instances and look at the actual distribution of those examples.\n",
    "\n",
    "Let's start with simulating one instance of task 1:"
   ]
  },
  {
   "cell_type": "code",
   "execution_count": 59,
   "metadata": {},
   "outputs": [
    {
     "name": "stdout",
     "output_type": "stream",
     "text": [
      "[4]\n"
     ]
    }
   ],
   "source": [
    "t1_comp = [3, 2, 4] # the possible completion time for task 1\n",
    "t1_prob = [0.7, 0.1, 0.2] # the probability of each completion time for task 1\n",
    "\n",
    "t1_time = np.random.choice(t1_comp, 1, p=t1_prob) # the second argument means that we only need one instance\n",
    "\n",
    "print(t1_time)"
   ]
  },
  {
   "cell_type": "markdown",
   "metadata": {},
   "source": [
    "Now that you know how to simulate the completion for one task, we can also do the same for the other two tasks:"
   ]
  },
  {
   "cell_type": "code",
   "execution_count": 60,
   "metadata": {},
   "outputs": [
    {
     "name": "stdout",
     "output_type": "stream",
     "text": [
      "[8]\n",
      "[4]\n"
     ]
    }
   ],
   "source": [
    "t2_comp = [6, 5, 8]\n",
    "t2_prob = [0.6, 0.2, 0.2]\n",
    "\n",
    "t2_time = np.random.choice(t2_comp, 1, p=t2_prob)\n",
    "\n",
    "t3_comp = [4, 3, 5]\n",
    "t3_prob = [0.8, 0.05, 0.15]\n",
    "\n",
    "t3_time = np.random.choice(t3_comp, 1, p=t3_prob)\n",
    "\n",
    "print(t2_time)\n",
    "print(t3_time)"
   ]
  },
  {
   "cell_type": "markdown",
   "metadata": {},
   "source": [
    "And now if we sum them up:"
   ]
  },
  {
   "cell_type": "code",
   "execution_count": 61,
   "metadata": {},
   "outputs": [
    {
     "name": "stdout",
     "output_type": "stream",
     "text": [
      "[16]\n"
     ]
    }
   ],
   "source": [
    "proj_time = t1_time + t2_time + t3_time\n",
    "\n",
    "print(proj_time)"
   ]
  },
  {
   "cell_type": "markdown",
   "metadata": {},
   "source": [
    "Note that every time you run the above code chunks, there would be a different project completion time; the essence of Monte Carlo Simulation is that we could record all those completion time and visualize their distribution. Thus, we can go ahead and simulate the above scenario a large number of times, let's say 1000 for now. Note that it is always a good habit to record the intermediate steps of your simulation so that you can go back to inspect and validatee your simulation."
   ]
  },
  {
   "cell_type": "code",
   "execution_count": 64,
   "metadata": {},
   "outputs": [],
   "source": [
    "t1_record = [] # Initiate empty lists to record the competion time\n",
    "t2_record = []\n",
    "t3_record = []\n",
    "\n",
    "proj_record = []\n",
    "\n",
    "t1_comp = [3, 2, 4]\n",
    "t1_prob = [0.7, 0.1, 0.2]\n",
    "\n",
    "t2_comp = [6, 5, 8]\n",
    "t2_prob = [0.6, 0.2, 0.2]\n",
    "\n",
    "t3_comp = [4, 3, 5]\n",
    "t3_prob = [0.8, 0.05, 0.15]\n",
    "\n",
    "for i in range(1000):\n",
    "    t1_time = np.random.choice(t1_comp, 1, p=t1_prob)[0]\n",
    "    t2_time = np.random.choice(t2_comp, 1, p=t2_prob)[0]\n",
    "    t3_time = np.random.choice(t3_comp, 1, p=t3_prob)[0]\n",
    "    # Note the np.random.choice generates array outputs\n",
    "    # so we are using index 0 here to extract the first integar in the array\n",
    "    \n",
    "    proj_time = t1_time + t2_time + t3_time\n",
    "    \n",
    "    t1_record.append(t1_time)\n",
    "    t2_record.append(t2_time)\n",
    "    t3_record.append(t3_time)\n",
    "    \n",
    "    proj_record.append(proj_time)"
   ]
  },
  {
   "cell_type": "markdown",
   "metadata": {},
   "source": [
    "And there, you have 1000 replications of your \"project\"! It is a relatively fast simulation partially because the problem is fairly simple. For larger problems, however, you might want to look into how you can optimize (or parallel) your replications in order to speed up the process. We will wait until the next scenario to discuss about this topic. For now, let's take a look at the first couple of results from our 1000 replications:"
   ]
  },
  {
   "cell_type": "code",
   "execution_count": 65,
   "metadata": {},
   "outputs": [
    {
     "data": {
      "text/html": [
       "<div>\n",
       "<style scoped>\n",
       "    .dataframe tbody tr th:only-of-type {\n",
       "        vertical-align: middle;\n",
       "    }\n",
       "\n",
       "    .dataframe tbody tr th {\n",
       "        vertical-align: top;\n",
       "    }\n",
       "\n",
       "    .dataframe thead th {\n",
       "        text-align: right;\n",
       "    }\n",
       "</style>\n",
       "<table border=\"1\" class=\"dataframe\">\n",
       "  <thead>\n",
       "    <tr style=\"text-align: right;\">\n",
       "      <th></th>\n",
       "      <th>Task_1</th>\n",
       "      <th>Task_2</th>\n",
       "      <th>Task_3</th>\n",
       "      <th>Project</th>\n",
       "    </tr>\n",
       "  </thead>\n",
       "  <tbody>\n",
       "    <tr>\n",
       "      <th>0</th>\n",
       "      <td>3</td>\n",
       "      <td>5</td>\n",
       "      <td>4</td>\n",
       "      <td>12</td>\n",
       "    </tr>\n",
       "    <tr>\n",
       "      <th>1</th>\n",
       "      <td>3</td>\n",
       "      <td>6</td>\n",
       "      <td>4</td>\n",
       "      <td>13</td>\n",
       "    </tr>\n",
       "    <tr>\n",
       "      <th>2</th>\n",
       "      <td>3</td>\n",
       "      <td>5</td>\n",
       "      <td>4</td>\n",
       "      <td>12</td>\n",
       "    </tr>\n",
       "    <tr>\n",
       "      <th>3</th>\n",
       "      <td>3</td>\n",
       "      <td>5</td>\n",
       "      <td>4</td>\n",
       "      <td>12</td>\n",
       "    </tr>\n",
       "    <tr>\n",
       "      <th>4</th>\n",
       "      <td>4</td>\n",
       "      <td>8</td>\n",
       "      <td>4</td>\n",
       "      <td>16</td>\n",
       "    </tr>\n",
       "  </tbody>\n",
       "</table>\n",
       "</div>"
      ],
      "text/plain": [
       "   Task_1  Task_2  Task_3  Project\n",
       "0       3       5       4       12\n",
       "1       3       6       4       13\n",
       "2       3       5       4       12\n",
       "3       3       5       4       12\n",
       "4       4       8       4       16"
      ]
     },
     "execution_count": 65,
     "metadata": {},
     "output_type": "execute_result"
    }
   ],
   "source": [
    "proj_df = pd.DataFrame({\"Task_1\": t1_record, # creating a dataframe using the lists of records\n",
    "                        \"Task_2\": t2_record, \n",
    "                        \"Task_3\": t3_record, \n",
    "                        \"Project\": proj_record})\n",
    "\n",
    "proj_df.head()"
   ]
  },
  {
   "cell_type": "markdown",
   "metadata": {},
   "source": [
    "Below we plot out the distribution of our simulated project completion dates. As you can see, even though around 400 replications of our project are completed in about 13 days, there are quite a few that are completed before AND after 13 days. In situations like this, it is the most benefitial to clarify the possibilities, so that you can manage the expections of stakeholders without losing the bid of a project."
   ]
  },
  {
   "cell_type": "code",
   "execution_count": 75,
   "metadata": {},
   "outputs": [
    {
     "data": {
      "text/plain": [
       "(array([  2.,  22., 188.,   0., 410., 199.,   0., 115.,  56.,   8.]),\n",
       " array([10. , 10.7, 11.4, 12.1, 12.8, 13.5, 14.2, 14.9, 15.6, 16.3, 17. ]),\n",
       " <a list of 10 Patch objects>)"
      ]
     },
     "execution_count": 75,
     "metadata": {},
     "output_type": "execute_result"
    },
    {
     "data": {
      "image/png": "[encoded data removed]",
      "text/plain": [
       "<Figure size 432x288 with 1 Axes>"
      ]
     },
     "metadata": {
      "needs_background": "light"
     },
     "output_type": "display_data"
    }
   ],
   "source": [
    "plt.hist(proj_record, bins=10)"
   ]
  },
  {
   "cell_type": "markdown",
   "metadata": {},
   "source": [
    "<br>\n",
    "\n",
    "## Reference\n",
    "\n",
    "---"
   ]
  },
  {
   "cell_type": "code",
   "execution_count": null,
   "metadata": {},
   "outputs": [],
   "source": []
  }
 ],
 "metadata": {
  "kernelspec": {
   "display_name": "Python 3",
   "language": "python",
   "name": "python3"
  },
  "language_info": {
   "codemirror_mode": {
    "name": "ipython",
    "version": 3
   },
   "file_extension": ".py",
   "mimetype": "text/x-python",
   "name": "python",
   "nbconvert_exporter": "python",
   "pygments_lexer": "ipython3",
   "version": "3.7.7"
  }
 },
 "nbformat": 4,
 "nbformat_minor": 4
}
